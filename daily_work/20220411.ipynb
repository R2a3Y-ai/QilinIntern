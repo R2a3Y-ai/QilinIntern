{
 "cells": [
  {
   "cell_type": "code",
   "execution_count": 54,
   "metadata": {
    "jupyter": {
     "source_hidden": true
    }
   },
   "outputs": [],
   "source": [
    "import matplotlib.pyplot as plt\n",
    "import numpy as np\n",
    "import pandas as pd\n",
    "from bintrees import FastRBTree\n",
    "from sklearn.preprocessing import  Normalizer\n",
    "snapCol = ['code', 'trdTime', 'recvTime', 'mthPrc', 'cumVol', 'turnover', 'cumCnt',\n",
    "       'bidPrc10', 'bidPrc9', 'bidPrc8', 'bidPrc7', 'bidPrc6', 'bidPrc5',\n",
    "       'bidPrc4', 'bidPrc3', 'bidPrc2', 'bidPrc1', 'askPrc1', 'askPrc2',\n",
    "       'askPrc3', 'askPrc4', 'askPrc5', 'askPrc6', 'askPrc7', 'askPrc8',\n",
    "       'askPrc9', 'askPrc10', 'bidVol10', 'bidVol9', 'bidVol8', 'bidVol7',\n",
    "       'bidVol6', 'bidVol5', 'bidVol4', 'bidVol3', 'bidVol2', 'bidVol1',\n",
    "       'askVol1', 'askVol2', 'askVol3', 'askVol4', 'askVol5', 'askVol6',\n",
    "       'askVol7', 'askVol8', 'askVol9', 'askVol10']\n",
    "def getMkDataMult(dataStreamMap:dict,sortBy=\"idOrd\"):\n",
    "    # dataStreamMap = {ins: getMkData(*readH5Cache(ins, qDate)) for ins in insSet}\n",
    "    dataDict = {}\n",
    "    reformData = {}\n",
    "    orderSortBy,transSortBy = 8,8\n",
    "    if sortBy==\"recvTime\":\n",
    "        orderSortBy,transSortBy = 3,3\n",
    "    if sortBy==\"BizIndex\":\n",
    "        orderSortBy, transSortBy = 10, 12\n",
    "    snapLocD = {}\n",
    "    maxSnapLenD = {}\n",
    "\n",
    "    for key,datas in dataStreamMap.items():\n",
    "\n",
    "        orderDf, transDf, snapDf = datas\n",
    "        if len(orderDf)<1:\n",
    "            continue\n",
    "        if len(transDf)<1:\n",
    "            return\n",
    "\n",
    "        if len(snapDf)>0:\n",
    "            snapDf = snapDf.sort_values(\"trdTime\")\n",
    "            snapDf = snapDf[snapCol]\n",
    "        orderQ = np.insert(orderDf.values.astype(\"int64\"), 0, 0, axis=1)\n",
    "        if len(str(orderQ[0,2]))<10: #trdTime\n",
    "            orderQ[:, 2] =orderQ[:, 2]*1e6\n",
    "        if len(str(orderQ[0,3]))<10: #recvTime\n",
    "            orderQ[:, 3] =orderQ[:, 3]*1e6\n",
    "\n",
    "\n",
    "        transQ = np.insert(transDf.values.astype(\"int64\"), 0, 1, axis=1)\n",
    "        if len(str(transQ[0,2]))<10:\n",
    "            transQ[:, 2] =transQ[:, 2]*1e6\n",
    "        if len(str(transQ[0,3]))<10:\n",
    "            transQ[:, 3] =transQ[:, 3]*1e6\n",
    "\n",
    "\n",
    "\n",
    "        snapQ =  np.insert(snapDf.values.astype(\"int64\"), 0, 2, axis=1)\n",
    "\n",
    "        if len(snapQ>1):\n",
    "            if len(str(snapQ[0,2]))<10:\n",
    "                snapQ[:, 2] = snapQ[:, 2] * 1e6\n",
    "            if len(str(snapQ[0, 3])) < 10:\n",
    "                snapQ[:, 3] = snapQ[:, 3] * 1e6\n",
    "\n",
    "        for i in range(len(orderQ)):\n",
    "            dataDict[(orderQ[i,orderSortBy],key)] = key,0, i\n",
    "\n",
    "        for i in range(len(transQ)):\n",
    "            dataDict[(transQ[i,transSortBy],key)]= key,1, i\n",
    "\n",
    "        reformData[key] = orderQ,transQ,snapQ\n",
    "        if len(snapQ)>0:\n",
    "            snapLocD[key] = 0\n",
    "            maxSnapLenD[key] = len(snapQ)\n",
    "\n",
    "\n",
    "    #\n",
    "\n",
    "    # lastID = min(orderQ[-1, -1],transQ[-1,-3])\n",
    "    # maxOrderLen = len(orderQ)\n",
    "    # maxTransLen = len(transQ)\n",
    "    # maxSnapLen = len(snapQ)\n",
    "    # timeLine = 0\n",
    "    sortedKeys = sorted(dataDict.keys())\n",
    "\n",
    "    for i in sortedKeys:\n",
    "\n",
    "        key,dtype_i,dLoc_i = dataDict[i]\n",
    "\n",
    "        if dtype_i==0:\n",
    "            data_i = reformData[key][0][dLoc_i]\n",
    "        if  dtype_i==1:\n",
    "            data_i = reformData[key][1][dLoc_i]\n",
    "        snapLoc = snapLocD.get(key)\n",
    "        if snapLoc is not None:\n",
    "            snapQ = reformData[key][2]\n",
    "            timeLine = data_i[3]\n",
    "            # print(timeLine)\n",
    "            maxSnapLen = maxSnapLenD[key]\n",
    "            while ( snapLoc<maxSnapLen)and(snapQ[snapLoc,3]<timeLine):\n",
    "                yield snapQ[snapLoc]\n",
    "                snapLoc+=1\n",
    "                snapLocD[key] +=1\n",
    "        yield data_i\n",
    "\n",
    "\n",
    "    # while sysID < lastID:\n",
    "    #     if (orderLoc< maxOrderLen)and(transLoc<maxTransLen)and(orderQ[orderLoc, -1] < transQ[transLoc, -3]):\n",
    "    #         yield  orderQ[orderLoc]\n",
    "    #         timeLine =orderQ[orderLoc, 2]\n",
    "    #         sysID = orderQ[orderLoc, -1]\n",
    "    #         orderLoc += 1\n",
    "    #     else:\n",
    "    #         if transLoc<maxTransLen:\n",
    "    #             yield  transQ[transLoc]\n",
    "    #             timeLine = transQ[transLoc, 2]\n",
    "    #             sysID = transQ[transLoc, -3]\n",
    "    #             transLoc += 1\n",
    "\n",
    "        # while ( snapLoc<maxSnapLen)and(snapQ[snapLoc,2]<timeLine):\n",
    "        #     yield snapQ[snapLoc]\n",
    "        #     snapLoc +=1\n",
    "class OrderQue(object):\n",
    "    def __init__(self,instrument):\n",
    "        self.instrument = instrument\n",
    "        self.priceCage = False\n",
    "        if self.instrument[:3]==\"300\":\n",
    "            self.priceCage = True\n",
    "        self.maxOrderID = 0\n",
    "        self.lossDataC = []\n",
    "\n",
    "        self.start_of_day()\n",
    "    def start_of_day(self):\n",
    "        self.ask = FastRBTree()\n",
    "        self.bid = FastRBTree()\n",
    "        self.askVol = {}\n",
    "        self.bidVol = {}\n",
    "        self.orderSaver = {}\n",
    "        self.mktTime = -1\n",
    "        self.locTime = -1\n",
    "        self.sysID = -1 #最大编号（transID,ordID）\n",
    "        self.date = -1\n",
    "        self.code = -1\n",
    "        self.lastPrice = -1\n",
    "        self.cumVol = 0\n",
    "        self.cumAmount = np.int64(0)\n",
    "        self.tradeCount = 0\n",
    "        self.toTradeID = 0\n",
    "        self.hangupCount = 0\n",
    "        self.hangupOrderIDs = []\n",
    "        self.hangupOver = []\n",
    "        self.maxDataSize = 0\n",
    "        self.endFlag = False\n",
    "        self.lossDataC = []\n",
    "\n",
    "    def mkTrade(self,orderID,trdQty ):\n",
    "        orderRc = self.orderSaver.get(orderID)\n",
    "        if orderRc is None:\n",
    "\n",
    "            self.lossDataC.append([self.mktTime,orderID])\n",
    "            return\n",
    "        orderRc[4] -= trdQty\n",
    "        bsFlag = orderRc[-3]\n",
    "        orderPrice  = orderRc[3]\n",
    "        type_i = orderRc[-2]\n",
    "        if type_i==1:\n",
    "            if bsFlag > 0:\n",
    "                if orderPrice in self.bidVol:\n",
    "                    self.bidVol[orderPrice] -= trdQty\n",
    "            else:\n",
    "                if orderPrice in self.askVol:\n",
    "                    self.askVol[orderPrice] -= trdQty\n",
    "\n",
    "        if orderRc[4] <0:\n",
    "            print(\"trdQty more then left \",  self.instrument )\n",
    "        if  orderRc[4]  ==0:\n",
    "            self.removeOrder(orderID)\n",
    "\n",
    "    def removeOrder(self,orderID):\n",
    "\n",
    "        # if orderID == 162667:\n",
    "        #     raise RuntimeError(\"remove %s\" % orderID)\n",
    "        if orderID in self.orderSaver:\n",
    "            orderRc = self.orderSaver.pop(orderID)\n",
    "            type_i = orderRc[-2]\n",
    "            bsFlag = orderRc[-3]\n",
    "            price =  orderRc[3]\n",
    "            vol_i =  orderRc[4]\n",
    "            if type_i==1:\n",
    "                if  bsFlag == -1:\n",
    "                    orderSet = self.ask.get(price)\n",
    "                    if orderSet is not None:\n",
    "                        orderSet.discard(orderID)\n",
    "                        self.askVol[price] -= vol_i\n",
    "                        if len(orderSet)<1:\n",
    "                            self.ask.remove( price)\n",
    "                        #print(\"remove price %s\"%orderRc.price)\n",
    "                else:\n",
    "                    orderSet = self.bid.get(price)\n",
    "                    if orderSet is not None:\n",
    "                        orderSet.discard(orderID)\n",
    "                        self.bidVol[price] -= vol_i\n",
    "                        if len(orderSet)<1:\n",
    "                            self.bid.remove( price)\n",
    "                            #rint(\"remove price %s\"%orderRc.price)\n",
    "        else:\n",
    "            self.lossDataC.append([self.mktTime,orderID])\n",
    "\n",
    "    def matcher(self,transRc):\n",
    "        transID = transRc[-3]\n",
    "        time_i = transRc[1]\n",
    "        locTime = transRc[2]\n",
    "        type_i = transRc[6]\n",
    "        askID = transRc[-1]\n",
    "        bidID = transRc[-2]\n",
    "        vol =  transRc[4]\n",
    "        price = transRc[3]\n",
    "\n",
    "\n",
    "        if type_i==0:\n",
    "            orderID = max(askID,bidID)#单边行为\n",
    "            self.removeOrder(orderID)\n",
    "        else:\n",
    "            self.lastPrice =  price\n",
    "            self.cumAmount +=  price*vol\n",
    "            self.tradeCount += 1\n",
    "            self.cumVol +=vol\n",
    "            self.mkTrade(askID,vol)\n",
    "            self.mkTrade(bidID,vol)\n",
    "            if (time_i >= 93000 * 1e9) and (self.ask.__len__()>0) and (self.bid.__len__()>0):\n",
    "\n",
    "                aminP = self.ask.min_key()\n",
    "                bmaxP = self.bid.max_key()\n",
    "                if (askID<bidID)and(len(self.ask)>0)and(aminP<price):\n",
    "                    z = list(self.ask[aminP])\n",
    "                    zStr = \"\"\n",
    "                    for orderId_i in z:\n",
    "                        zStr = zStr+\",\"+str(orderId_i)\n",
    "                    # print(\"hang up ask %s %s %s \"%(transID,aminP,zStr))\n",
    "                    rmPrice = []\n",
    "                    for askprice, orderIDset in self.ask.iter_items():\n",
    "                        if askprice < price:\n",
    "                            rmPrice.append(askprice)\n",
    "                            self.askVol[askprice] = 0\n",
    "                        else:\n",
    "                            break\n",
    "                    [self.ask.remove(askprice) for askprice in rmPrice]\n",
    "\n",
    "                if (askID>bidID)and(len(self.bid)>0)and(bmaxP>price):\n",
    "                    z = list(self.bid[bmaxP])\n",
    "                    zStr = \"\"\n",
    "                    for orderId_i in z:\n",
    "                        zStr = zStr+\",\"+str(orderId_i)\n",
    "                    # print(\"hang up ask %s %s %s\"%(transID,bmaxP,zStr))\n",
    "\n",
    "                    rmPrice = []\n",
    "                    for bidprice, orderIDset in self.bid.iter_items(reverse=True):\n",
    "                        if bidprice > price:\n",
    "                            rmPrice.append(bidprice)\n",
    "                            self.bidVol[bidprice] = 0\n",
    "                        else:\n",
    "                            break\n",
    "                    [self.bid.remove(bidprice) for bidprice in rmPrice]\n",
    "\n",
    "\n",
    "            # if( self.ask.min_key()>self.bid.max_key()):\n",
    "            if (time_i>93000*1e9)and(  time_i<145700*1e9 )and(self.ask.__len__()>0)and(self.bid.__len__()>0)and( self.ask.min_key()>self.bid.max_key()):\n",
    "                self.endFlag = True\n",
    "            #     if  self.toTradeID != max(askID, bidID):\n",
    "            #         if self.orderSaver[self.toTradeID][-2]==1:\n",
    "            #             self.hangupOrderIDs.append(self.toTradeID)\n",
    "                # if self.sysID > max(askID, bidID):\n",
    "            #         self.hangupCount += 1\n",
    "            #         self.hangupOrderIDs.append(transID)\n",
    "        self.sysID = max(self.sysID, transID)\n",
    "        self.locTime = max(self.locTime, locTime)\n",
    "        self.mktTime = max(self.mktTime, time_i)\n",
    "        return self.endFlag\n",
    "\n",
    "\n",
    "    def parser(self,data_i):\n",
    "        if data_i[0]==0:\n",
    "            return OrderData(*data_i[1:])\n",
    "        if data_i[0] == 1:\n",
    "            return TransData(*data_i[1:])\n",
    "        pass\n",
    "\n",
    "    def push_order(self,orderRc:np.array):\n",
    "        # orderRc= orderQ[20,1:]\n",
    "        orderID = orderRc[-1]\n",
    "        time_i = orderRc[1]  #trdTime\n",
    "        locTime = orderRc[2] #recvTime\n",
    "        #snap_i[1] = self.locTime\n",
    "        #snap_i[2] = self.mktTime\n",
    "        type_i = orderRc[-2]\n",
    "        bsFlag = orderRc[-3]\n",
    "        price =  orderRc[3]\n",
    "        vol_i = orderRc[4]\n",
    "        # if type_i == 2:\n",
    "        #     orderRc[-2] = 1\n",
    "        #     if bsFlag == -1:\n",
    "        #         orderRc[3] = self.ask.min_key()\n",
    "        #     else:\n",
    "        #         orderRc[3] = self.bid.max_key()\n",
    "\n",
    "        self.sysID = max(self.sysID, orderID)\n",
    "        self.orderSaver[orderID] = orderRc\n",
    "\n",
    "        self.maxDataSize = max(self.maxDataSize,len(self.orderSaver))\n",
    "        self.mktTime = max(self.mktTime, time_i)\n",
    "        self.locTime = max(self.locTime, locTime)\n",
    "\n",
    "\n",
    "\n",
    "        if (type_i== 1)   :\n",
    "\n",
    "            if bsFlag == -1:\n",
    "                if self.bid.__len__() > 0:\n",
    "                    if (time_i > 93000*1e9) and (time_i < 145700*1e9) and (price < self.bid.max_key() * 0.98):\n",
    "                        #这是为啥 价格笼子\n",
    "                        return\n",
    "\n",
    "\n",
    "                pRes = self.ask.get(price)\n",
    "\n",
    "                if pRes is   None:\n",
    "                    self.ask[price] = set([orderID])\n",
    "                    self.askVol[price] = vol_i\n",
    "                else:\n",
    "                    pRes.add(orderID)\n",
    "                    self.askVol[price] += vol_i\n",
    "            else:\n",
    "                if self.ask.__len__() > 0:\n",
    "                    if  (time_i>93000*1e9)and(  time_i<145700*1e9) and ( price>   self.ask.min_key()*1.02):\n",
    "                        return\n",
    "\n",
    "                pRes = self.bid.get(price)\n",
    "                if pRes is   None:\n",
    "                    self.bid[price] = set([orderID])\n",
    "                    self.bidVol[price] = vol_i\n",
    "                else:\n",
    "                    pRes.add(orderID)\n",
    "                    self.bidVol[price] += vol_i\n",
    "\n",
    "\n",
    "\n",
    "\n",
    "\n",
    "    def handle(self,data_i):\n",
    "        self.endFlag = False\n",
    "\n",
    "        if data_i[0] == 0:\n",
    "            return  self.push_order(data_i[1:][:8])\n",
    "        elif  data_i[0]==1:\n",
    "            return self.matcher(data_i[1:][:10])\n",
    "        else:\n",
    "            pass\n",
    "\n",
    "    def hang_up(self,orderID):\n",
    "        pass\n",
    "\n",
    "\n",
    "    def getSnap(self,pctRank=False,minIgnore=0):\n",
    "        level = 10\n",
    "        info_n = 7\n",
    "        snap_i = np.array([0]*(level*4+7),dtype=\"int\")\n",
    "        snap_i[0] = self.sysID\n",
    "        snap_i[1] = self.mktTime\n",
    "        snap_i[2] = self.locTime\n",
    "        snap_i[3] = self.lastPrice\n",
    "        snap_i[4] = self.cumVol\n",
    "        snap_i[5] = self.cumAmount\n",
    "        snap_i[6] = self.tradeCount\n",
    "        a_i = 0\n",
    "        jumpR = 0.01\n",
    "        askp1 = self.ask.min_key()\n",
    "        bidp1 = self.bid.max_key()\n",
    "        for price,orderIDset in self.ask.iter_items():\n",
    "            if pctRank:\n",
    "                a_i = int(np.floor((price/askp1-1)/jumpR))\n",
    "                if a_i >= 5:\n",
    "                    break\n",
    "\n",
    "\n",
    "            vol = self.askVol[price]\n",
    "            if vol<=minIgnore:\n",
    "                continue\n",
    "            if not pctRank:\n",
    "                snap_i[info_n + level + a_i] = price\n",
    "            else:\n",
    "                snap_i[info_n + level + a_i] =  askp1*(1+jumpR*a_i)\n",
    "            # for QorderID in orderIDset:\n",
    "            #    vol += self.orderSaver[QorderID][4]\n",
    "            snap_i[info_n+3*level+a_i] += vol\n",
    "\n",
    "            if not pctRank:\n",
    "                a_i += 1\n",
    "\n",
    "            if a_i>=level:\n",
    "                break\n",
    "        b_i = 0\n",
    "        for price,orderIDset in self.bid.iter_items(reverse=True):\n",
    "            if pctRank :\n",
    "                b_i = int(np.floor((1-price / bidp1  ) / jumpR))\n",
    "\n",
    "                if b_i >= level:\n",
    "                    break\n",
    "\n",
    "            vol = self.bidVol[price]\n",
    "            if vol <= minIgnore:\n",
    "                continue\n",
    "            if not pctRank:\n",
    "                snap_i[info_n + level - b_i - 1] = price\n",
    "            else:\n",
    "                snap_i[info_n + level - b_i - 1] = bidp1 * (1 - jumpR * b_i)\n",
    "\n",
    "            # for QorderID in orderIDset:\n",
    "            #    vol += self.orderSaver[QorderID][4]\n",
    "            snap_i[info_n+3*level - b_i-1] += vol\n",
    "            if not pctRank:\n",
    "                b_i += 1\n",
    "            if b_i >= level:\n",
    "                break\n",
    "        return snap_i\n",
    "\n",
    "\n",
    "\n",
    "\n",
    "    def getLoc(self,price,orderID):\n",
    "        vol = 0\n",
    "        if price in self.ask:\n",
    "            for QorderID in self.ask[price]:\n",
    "                if QorderID<orderID:\n",
    "                    vol += self.orderSaver[QorderID][4]\n",
    "\n",
    "        if price in self.bid:\n",
    "            for QorderID in self.bid[price]:\n",
    "                if QorderID<orderID:\n",
    "                    vol += self.orderSaver[QorderID][4]\n",
    "\n",
    "        return vol\n"
   ]
  },
  {
   "cell_type": "code",
   "execution_count": 55,
   "metadata": {},
   "outputs": [],
   "source": [
    "%matplotlib inline\n",
    "data = np.load(\"/Users/ray/Downloads/test_data.npy\",allow_pickle=True).item()\n",
    "from sklearn.linear_model import LogisticRegression\n",
    "#ins = 1127007\n",
    "ins = 1300142\n",
    "#ins = 1002594\n",
    "#ins = 1128040\n",
    "dataStreamMap = {ins:data[ins]}\n",
    "del(data)"
   ]
  },
  {
   "cell_type": "code",
   "execution_count": 92,
   "metadata": {},
   "outputs": [],
   "source": [
    "def incoming_oder_price():\n",
    "    a = []\n",
    "    b = []\n",
    "    OrderQue_test = OrderQue(str(ins))\n",
    "    for data_i in getMkDataMult(dataStreamMap):\n",
    "        if data_i[0]==1:\n",
    "            orderRc = data_i[1:][:8]\n",
    "            orderID = orderRc[-1]\n",
    "            time_i = orderRc[1]  # trdTime\n",
    "            locTime = orderRc[2]  # recvTime\n",
    "            type_i = orderRc[-2]\n",
    "            bsFlag = orderRc[-3]\n",
    "            price = orderRc[3]\n",
    "            vol_i = orderRc[4]\n",
    "            if type_i == 1 and bsFlag==1:\n",
    "                if OrderQue_test.bid.count > 0:\n",
    "                    b.append([time_i,OrderQue_test.bid.max_key(),price])\n",
    "            if type_i == 1 and bsFlag == -1:\n",
    "                if OrderQue_test.bid.count > 0:\n",
    "                    a.append([time_i, OrderQue_test.ask.min_key(), price])\n",
    "        OrderQue_test.handle(data_i)\n",
    "    return a,b\n",
    "a,b = incoming_oder_price()"
   ]
  },
  {
   "cell_type": "code",
   "execution_count": 95,
   "metadata": {},
   "outputs": [
    {
     "data": {
      "text/plain": [
       "(0.0, 2000.0)"
      ]
     },
     "execution_count": 95,
     "metadata": {},
     "output_type": "execute_result"
    },
    {
     "data": {
      "image/png": "[encoded data removed]",
      "text/plain": [
       "<Figure size 432x288 with 1 Axes>"
      ]
     },
     "metadata": {
      "needs_background": "light"
     },
     "output_type": "display_data"
    }
   ],
   "source": [
    "%matplotlib inline\n",
    "df = pd.DataFrame(a, columns=['trdTime','ask','price'])\n",
    "df = df[df['trdTime'] >= 93000000000000]\n",
    "df = df[df['trdTime'] < 145700000000000]\n",
    "df['delta'] = df['price'] - df['ask'] \n",
    "#df['delta'] = df['ask'] - df['price']\n",
    "import seaborn as sns\n",
    "import matplotlib.pyplot as plt\n",
    "fig = sns.histplot(df['delta'],kde=True)\n",
    "fig.set_xlim([0,1000])"
   ]
  },
  {
   "cell_type": "code",
   "execution_count": 96,
   "metadata": {},
   "outputs": [
    {
     "data": {
      "text/plain": [
       "Text(0, 0.5, 'count')"
      ]
     },
     "execution_count": 96,
     "metadata": {},
     "output_type": "execute_result"
    },
    {
     "data": {
      "image/png": "[encoded data removed]",
      "text/plain": [
       "<Figure size 432x288 with 1 Axes>"
      ]
     },
     "metadata": {
      "needs_background": "light"
     },
     "output_type": "display_data"
    }
   ],
   "source": [
    "df = df[df['delta']<=1000]\n",
    "df = df[df['delta']>=0]\n",
    "x = df.groupby('delta').size()\n",
    "fig = plt.figure()\n",
    "plt.plot(x.index,x.values)\n",
    "plt.xlabel('price_delta')\n",
    "plt.ylabel('count')"
   ]
  },
  {
   "cell_type": "code",
   "execution_count": 85,
   "metadata": {},
   "outputs": [
    {
     "data": {
      "text/plain": [
       "(0.0, 1000.0)"
      ]
     },
     "execution_count": 85,
     "metadata": {},
     "output_type": "execute_result"
    },
    {
     "data": {
      "image/png": "[encoded data removed]",
      "text/plain": [
       "<Figure size 432x288 with 1 Axes>"
      ]
     },
     "metadata": {
      "needs_background": "light"
     },
     "output_type": "display_data"
    }
   ],
   "source": [
    "df = pd.DataFrame(b, columns=['trdTime','bid','price'])\n",
    "df = df[df['trdTime'] >= 93000000000000]\n",
    "df = df[df['trdTime'] < 145700000000000]\n",
    "#df['delta'] = df['price'] - df['ask'] \n",
    "df['delta'] = df['bid'] - df['price']\n",
    "import seaborn as sns\n",
    "import matplotlib.pyplot as plt\n",
    "fig = sns.histplot(df['delta'],kde=True)\n",
    "fig.set_xlim([0,1000])"
   ]
  },
  {
   "cell_type": "code",
   "execution_count": 86,
   "metadata": {},
   "outputs": [
    {
     "data": {
      "image/png": "[encoded data removed]",
      "text/plain": [
       "<Figure size 432x288 with 1 Axes>"
      ]
     },
     "metadata": {
      "needs_background": "light"
     },
     "output_type": "display_data"
    }
   ],
   "source": [
    "df = df[df['delta']<=1000]\n",
    "df = df[df['delta']>=0]\n",
    "x = df.groupby('delta').size()\n",
    "fig = plt.figure()\n",
    "plt.plot(x.index,x.values)\n",
    "plt.xlabel('price_delta')\n",
    "plt.ylabel('count')\n",
    "plt.savefig(str(ins)+'.png')"
   ]
  },
  {
   "cell_type": "code",
   "execution_count": 11,
   "metadata": {
    "jupyter": {
     "source_hidden": true
    }
   },
   "outputs": [],
   "source": [
    "def get_current_vol(timestamp=93005 * 1e09):\n",
    "    OrderQue_test = OrderQue(str(ins))\n",
    "    for data_i in getMkDataMult(dataStreamMap):\n",
    "        OrderQue_test.handle(data_i)\n",
    "        if OrderQue_test.mktTime >= timestamp:\n",
    "            return OrderQue_test.bid.max_key(),OrderQue_test.bidVol,OrderQue_test.ask.min_key(),OrderQue_test.askVol\n",
    "bid,bidVol,ask,askVol = get_current_vol(93010 * 1e09)"
   ]
  },
  {
   "cell_type": "code",
   "execution_count": 35,
   "metadata": {
    "collapsed": true,
    "jupyter": {
     "outputs_hidden": true,
     "source_hidden": true
    }
   },
   "outputs": [
    {
     "data": {
      "image/png": "[encoded data removed]",
      "text/plain": [
       "<Figure size 432x288 with 1 Axes>"
      ]
     },
     "metadata": {
      "needs_background": "light"
     },
     "output_type": "display_data"
    }
   ],
   "source": [
    "def current_vol_plot(bid,bidVol,ask,askVol,alpha=1e-04):\n",
    "    '''\n",
    "    :param price: bid price/ask price\n",
    "    :param vol: OrderQue.bidVol/OrderQue.askVol\n",
    "    :param alpha:\n",
    "    :return:\n",
    "    '''\n",
    "    bid_df = pd.Series(bidVol)\n",
    "    bid_df = bid_df[bid_df!=0]\n",
    "    bid_df.sort_index(inplace=True)\n",
    "    ask_df = pd.Series(askVol)\n",
    "    ask_df = ask_df[ask_df!=0]\n",
    "    ask_df.sort_index(inplace=True)\n",
    "    df = pd.concat([bid_df,ask_df])\n",
    "    df = df[df.index<=ask+10000]\n",
    "    df = df[df.index>=bid-10000]\n",
    "    df.sort_index(inplace=True)\n",
    "    plt.plot(df.index,df.values)\n",
    "    #plt.xlim(bid-10000,ask+10000)\n",
    "    plt.annotate(text='ask',xy=(ask,0))\n",
    "    plt.annotate(text='bid',xy=(bid,0))\n",
    "    return df\n",
    "df = current_vol_plot(bid,bidVol,ask,askVol,alpha=1e-04)"
   ]
  },
  {
   "cell_type": "code",
   "execution_count": 43,
   "metadata": {
    "jupyter": {
     "source_hidden": true
    }
   },
   "outputs": [],
   "source": [
    "def get_trd_vol(timestamp=93005 * 1e09,timedelta = 5*1e09):\n",
    "    bid,bidVol,ask,askVol = get_current_vol(timestamp)\n",
    "    timestamp1 = timestamp + timedelta\n",
    "    OrderQue_test = OrderQue(str(ins))\n",
    "    trd_vol = {}\n",
    "    for data_i in getMkDataMult(dataStreamMap):\n",
    "        OrderQue_test.handle(data_i)\n",
    "        if OrderQue_test.mktTime >= timestamp and data_i[0]==1:\n",
    "            transRc = data_i[1:][:10]\n",
    "            type_i = transRc[6]\n",
    "            vol = transRc[4]\n",
    "            price = transRc[3]\n",
    "            if type_i==1:\n",
    "                if price in trd_vol:\n",
    "                    trd_vol[price] += vol\n",
    "                else:\n",
    "                    trd_vol[price] = vol\n",
    "        if OrderQue_test.mktTime >= timestamp1:\n",
    "            return OrderQue_test.lastPrice,trd_vol\n",
    "lastPrice,trd_vol = get_trd_vol()"
   ]
  },
  {
   "cell_type": "code",
   "execution_count": 46,
   "metadata": {
    "collapsed": true,
    "jupyter": {
     "outputs_hidden": true,
     "source_hidden": true
    }
   },
   "outputs": [
    {
     "data": {
      "image/png": "[encoded data removed]",
      "text/plain": [
       "<Figure size 432x288 with 1 Axes>"
      ]
     },
     "metadata": {
      "needs_background": "light"
     },
     "output_type": "display_data"
    }
   ],
   "source": [
    "def current_trd_plot(lastPrice, trd_vol,df):\n",
    "    plt.plot(df.index,df.values,label='order',color='red')\n",
    "    df = pd.Series(trd_vol)\n",
    "    df.sort_index(inplace=True)\n",
    "    #plt.annotate(text='ask',xy=(ask,0))\n",
    "    #plt.annotate(text='bid',xy=(bid,0))\n",
    "    plt.plot(df.index,df.values,label='trans',color='blue')\n",
    "current_trd_plot(lastPrice, trd_vol,df)"
   ]
  },
  {
   "cell_type": "code",
   "execution_count": 57,
   "metadata": {},
   "outputs": [
    {
     "data": {
      "image/png": "[encoded data removed]",
      "text/plain": [
       "<Figure size 432x288 with 1 Axes>"
      ]
     },
     "metadata": {
      "needs_background": "light"
     },
     "output_type": "display_data"
    }
   ],
   "source": [
    "def ord_trans(timestamp=93005 * 1e09,timedelta = 5*1e09):\n",
    "    timestamp1 = timestamp + timedelta\n",
    "    OrderQue_test = OrderQue(str(ins))\n",
    "    trd_vol = {}\n",
    "    c = 0\n",
    "    for data_i in getMkDataMult(dataStreamMap):\n",
    "        OrderQue_test.handle(data_i)\n",
    "        if OrderQue_test.mktTime >= timestamp and c==0:\n",
    "            bid,bidVol,ask,askVol = \\\n",
    "            OrderQue_test.bid.max_key(),OrderQue_test.bidVol,OrderQue_test.ask.min_key(),OrderQue_test.askVol\n",
    "            c = 1\n",
    "        if OrderQue_test.mktTime >= timestamp and data_i[0]==1:\n",
    "            transRc = data_i[1:][:10]\n",
    "            type_i = transRc[6]\n",
    "            vol = transRc[4]\n",
    "            price = transRc[3]\n",
    "            if type_i==1:\n",
    "                if price in trd_vol:\n",
    "                    trd_vol[price] += vol\n",
    "                else:\n",
    "                    trd_vol[price] = vol\n",
    "        if OrderQue_test.mktTime >= timestamp1:\n",
    "            break\n",
    "    bid_df = pd.Series(bidVol)\n",
    "    bid_df = bid_df[bid_df!=0]\n",
    "    bid_df.sort_index(inplace=True)\n",
    "    ask_df = pd.Series(askVol)\n",
    "    ask_df = ask_df[ask_df!=0]\n",
    "    ask_df.sort_index(inplace=True)\n",
    "    df = pd.concat([bid_df,ask_df])\n",
    "    df = df[df.index<=ask+10000]\n",
    "    df = df[df.index>=bid-10000]\n",
    "    df.sort_index(inplace=True)\n",
    "    plt.plot(df.index,df.values,label='order',color='red')\n",
    "    df = pd.Series(trd_vol)\n",
    "    df.sort_index(inplace=True)\n",
    "    plt.plot(df.index,df.values,label='trans',color='blue')\n",
    "ord_trans(timestamp=93020 * 1e09)"
   ]
  },
  {
   "cell_type": "code",
   "execution_count": 75,
   "metadata": {},
   "outputs": [],
   "source": [
    "def trans():\n",
    "    data=[]\n",
    "    OrderQue_test = OrderQue(str(ins))\n",
    "    for data_i in getMkDataMult(dataStreamMap):\n",
    "        OrderQue_test.handle(data_i)\n",
    "        if data_i[0]==1:\n",
    "            orderRc = data_i[1:][:8]\n",
    "            orderID = orderRc[-1]\n",
    "            time_i = orderRc[1]  # trdTime\n",
    "            locTime = orderRc[2]  # recvTime\n",
    "            type_i = orderRc[-2]\n",
    "            bsFlag = orderRc[-3]\n",
    "            price = orderRc[3]\n",
    "            vol_i = orderRc[4]\n",
    "            if type_i == 1 and time_i>=93000*1e09 and time_i<145700*1e09:\n",
    "                data.append([time_i,0])      \n",
    "    return np.array(data)\n",
    "data=trans()"
   ]
  },
  {
   "cell_type": "code",
   "execution_count": 58,
   "metadata": {},
   "outputs": [],
   "source": [
    "from MHP import *\n",
    "P = MHP()"
   ]
  },
  {
   "cell_type": "code",
   "execution_count": null,
   "metadata": {},
   "outputs": [],
   "source": [
    "P.EM(Ahat=P.alpha,mhat=P.mu,omega=P.omega,seq=data)"
   ]
  },
  {
   "cell_type": "code",
   "execution_count": null,
   "metadata": {},
   "outputs": [],
   "source": []
  }
 ],
 "metadata": {
  "kernelspec": {
   "display_name": "Python 3",
   "language": "python",
   "name": "python3"
  },
  "language_info": {
   "codemirror_mode": {
    "name": "ipython",
    "version": 3
   },
   "file_extension": ".py",
   "mimetype": "text/x-python",
   "name": "python",
   "nbconvert_exporter": "python",
   "pygments_lexer": "ipython3",
   "version": "3.8.5"
  }
 },
 "nbformat": 4,
 "nbformat_minor": 4
}
